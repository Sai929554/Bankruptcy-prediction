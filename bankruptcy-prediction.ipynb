{
  "cells": [
    {
      "metadata": {
        "trusted": false
      },
      "id": "e5c0521b",
      "cell_type": "code",
      "source": "import pandas as pd\nimport numpy as np",
      "execution_count": 1,
      "outputs": []
    },
    {
      "metadata": {
        "trusted": false
      },
      "id": "7af4776c",
      "cell_type": "code",
      "source": "Data=pd.read_csv('bankruptcy-prevention.csv',delimiter=';')",
      "execution_count": 2,
      "outputs": []
    },
    {
      "metadata": {
        "trusted": false
      },
      "id": "2c352473",
      "cell_type": "code",
      "source": "Data",
      "execution_count": 3,
      "outputs": [
        {
          "data": {
            "text/html": "<div>\n<style scoped>\n    .dataframe tbody tr th:only-of-type {\n        vertical-align: middle;\n    }\n\n    .dataframe tbody tr th {\n        vertical-align: top;\n    }\n\n    .dataframe thead th {\n        text-align: right;\n    }\n</style>\n<table border=\"1\" class=\"dataframe\">\n  <thead>\n    <tr style=\"text-align: right;\">\n      <th></th>\n      <th>industrial_risk</th>\n      <th>management_risk</th>\n      <th>financial_flexibility</th>\n      <th>credibility</th>\n      <th>competitiveness</th>\n      <th>operating_risk</th>\n      <th>class</th>\n    </tr>\n  </thead>\n  <tbody>\n    <tr>\n      <th>0</th>\n      <td>0.5</td>\n      <td>1.0</td>\n      <td>0.0</td>\n      <td>0.0</td>\n      <td>0.0</td>\n      <td>0.5</td>\n      <td>bankruptcy</td>\n    </tr>\n    <tr>\n      <th>1</th>\n      <td>0.0</td>\n      <td>1.0</td>\n      <td>0.0</td>\n      <td>0.0</td>\n      <td>0.0</td>\n      <td>1.0</td>\n      <td>bankruptcy</td>\n    </tr>\n    <tr>\n      <th>2</th>\n      <td>1.0</td>\n      <td>0.0</td>\n      <td>0.0</td>\n      <td>0.0</td>\n      <td>0.0</td>\n      <td>1.0</td>\n      <td>bankruptcy</td>\n    </tr>\n    <tr>\n      <th>3</th>\n      <td>0.5</td>\n      <td>0.0</td>\n      <td>0.0</td>\n      <td>0.5</td>\n      <td>0.0</td>\n      <td>1.0</td>\n      <td>bankruptcy</td>\n    </tr>\n    <tr>\n      <th>4</th>\n      <td>1.0</td>\n      <td>1.0</td>\n      <td>0.0</td>\n      <td>0.0</td>\n      <td>0.0</td>\n      <td>1.0</td>\n      <td>bankruptcy</td>\n    </tr>\n    <tr>\n      <th>...</th>\n      <td>...</td>\n      <td>...</td>\n      <td>...</td>\n      <td>...</td>\n      <td>...</td>\n      <td>...</td>\n      <td>...</td>\n    </tr>\n    <tr>\n      <th>245</th>\n      <td>0.0</td>\n      <td>1.0</td>\n      <td>1.0</td>\n      <td>1.0</td>\n      <td>1.0</td>\n      <td>1.0</td>\n      <td>non-bankruptcy</td>\n    </tr>\n    <tr>\n      <th>246</th>\n      <td>1.0</td>\n      <td>1.0</td>\n      <td>0.5</td>\n      <td>1.0</td>\n      <td>1.0</td>\n      <td>0.0</td>\n      <td>non-bankruptcy</td>\n    </tr>\n    <tr>\n      <th>247</th>\n      <td>0.0</td>\n      <td>1.0</td>\n      <td>1.0</td>\n      <td>0.5</td>\n      <td>0.5</td>\n      <td>0.0</td>\n      <td>non-bankruptcy</td>\n    </tr>\n    <tr>\n      <th>248</th>\n      <td>1.0</td>\n      <td>0.0</td>\n      <td>0.5</td>\n      <td>1.0</td>\n      <td>0.5</td>\n      <td>0.0</td>\n      <td>non-bankruptcy</td>\n    </tr>\n    <tr>\n      <th>249</th>\n      <td>1.0</td>\n      <td>0.0</td>\n      <td>0.5</td>\n      <td>0.5</td>\n      <td>1.0</td>\n      <td>1.0</td>\n      <td>non-bankruptcy</td>\n    </tr>\n  </tbody>\n</table>\n<p>250 rows × 7 columns</p>\n</div>",
            "text/plain": "     industrial_risk   management_risk   financial_flexibility   credibility  \\\n0                0.5               1.0                     0.0           0.0   \n1                0.0               1.0                     0.0           0.0   \n2                1.0               0.0                     0.0           0.0   \n3                0.5               0.0                     0.0           0.5   \n4                1.0               1.0                     0.0           0.0   \n..               ...               ...                     ...           ...   \n245              0.0               1.0                     1.0           1.0   \n246              1.0               1.0                     0.5           1.0   \n247              0.0               1.0                     1.0           0.5   \n248              1.0               0.0                     0.5           1.0   \n249              1.0               0.0                     0.5           0.5   \n\n      competitiveness   operating_risk           class  \n0                 0.0              0.5      bankruptcy  \n1                 0.0              1.0      bankruptcy  \n2                 0.0              1.0      bankruptcy  \n3                 0.0              1.0      bankruptcy  \n4                 0.0              1.0      bankruptcy  \n..                ...              ...             ...  \n245               1.0              1.0  non-bankruptcy  \n246               1.0              0.0  non-bankruptcy  \n247               0.5              0.0  non-bankruptcy  \n248               0.5              0.0  non-bankruptcy  \n249               1.0              1.0  non-bankruptcy  \n\n[250 rows x 7 columns]"
          },
          "execution_count": 3,
          "metadata": {},
          "output_type": "execute_result"
        }
      ]
    },
    {
      "metadata": {
        "trusted": false
      },
      "id": "77c03e25",
      "cell_type": "code",
      "source": "Data.info()",
      "execution_count": 4,
      "outputs": [
        {
          "name": "stdout",
          "output_type": "stream",
          "text": "<class 'pandas.core.frame.DataFrame'>\nRangeIndex: 250 entries, 0 to 249\nData columns (total 7 columns):\n #   Column                  Non-Null Count  Dtype  \n---  ------                  --------------  -----  \n 0   industrial_risk         250 non-null    float64\n 1    management_risk        250 non-null    float64\n 2    financial_flexibility  250 non-null    float64\n 3    credibility            250 non-null    float64\n 4    competitiveness        250 non-null    float64\n 5    operating_risk         250 non-null    float64\n 6    class                  250 non-null    object \ndtypes: float64(6), object(1)\nmemory usage: 13.8+ KB\n"
        }
      ]
    },
    {
      "metadata": {
        "trusted": false
      },
      "id": "80494b2f",
      "cell_type": "code",
      "source": "Data.columns",
      "execution_count": 5,
      "outputs": [
        {
          "data": {
            "text/plain": "Index(['industrial_risk', ' management_risk', ' financial_flexibility',\n       ' credibility', ' competitiveness', ' operating_risk', ' class'],\n      dtype='object')"
          },
          "execution_count": 5,
          "metadata": {},
          "output_type": "execute_result"
        }
      ]
    },
    {
      "metadata": {
        "trusted": false
      },
      "id": "510d33a6",
      "cell_type": "code",
      "source": "Data[Data.duplicated()]",
      "execution_count": 6,
      "outputs": [
        {
          "data": {
            "text/html": "<div>\n<style scoped>\n    .dataframe tbody tr th:only-of-type {\n        vertical-align: middle;\n    }\n\n    .dataframe tbody tr th {\n        vertical-align: top;\n    }\n\n    .dataframe thead th {\n        text-align: right;\n    }\n</style>\n<table border=\"1\" class=\"dataframe\">\n  <thead>\n    <tr style=\"text-align: right;\">\n      <th></th>\n      <th>industrial_risk</th>\n      <th>management_risk</th>\n      <th>financial_flexibility</th>\n      <th>credibility</th>\n      <th>competitiveness</th>\n      <th>operating_risk</th>\n      <th>class</th>\n    </tr>\n  </thead>\n  <tbody>\n    <tr>\n      <th>11</th>\n      <td>0.0</td>\n      <td>1.0</td>\n      <td>0.0</td>\n      <td>0.0</td>\n      <td>0.0</td>\n      <td>1.0</td>\n      <td>bankruptcy</td>\n    </tr>\n    <tr>\n      <th>13</th>\n      <td>1.0</td>\n      <td>1.0</td>\n      <td>0.0</td>\n      <td>0.0</td>\n      <td>0.0</td>\n      <td>1.0</td>\n      <td>bankruptcy</td>\n    </tr>\n    <tr>\n      <th>15</th>\n      <td>0.5</td>\n      <td>1.0</td>\n      <td>0.0</td>\n      <td>0.0</td>\n      <td>0.0</td>\n      <td>0.5</td>\n      <td>bankruptcy</td>\n    </tr>\n    <tr>\n      <th>16</th>\n      <td>0.5</td>\n      <td>1.0</td>\n      <td>0.0</td>\n      <td>0.0</td>\n      <td>0.0</td>\n      <td>0.5</td>\n      <td>bankruptcy</td>\n    </tr>\n    <tr>\n      <th>18</th>\n      <td>0.5</td>\n      <td>1.0</td>\n      <td>0.0</td>\n      <td>0.0</td>\n      <td>0.0</td>\n      <td>1.0</td>\n      <td>bankruptcy</td>\n    </tr>\n    <tr>\n      <th>...</th>\n      <td>...</td>\n      <td>...</td>\n      <td>...</td>\n      <td>...</td>\n      <td>...</td>\n      <td>...</td>\n      <td>...</td>\n    </tr>\n    <tr>\n      <th>245</th>\n      <td>0.0</td>\n      <td>1.0</td>\n      <td>1.0</td>\n      <td>1.0</td>\n      <td>1.0</td>\n      <td>1.0</td>\n      <td>non-bankruptcy</td>\n    </tr>\n    <tr>\n      <th>246</th>\n      <td>1.0</td>\n      <td>1.0</td>\n      <td>0.5</td>\n      <td>1.0</td>\n      <td>1.0</td>\n      <td>0.0</td>\n      <td>non-bankruptcy</td>\n    </tr>\n    <tr>\n      <th>247</th>\n      <td>0.0</td>\n      <td>1.0</td>\n      <td>1.0</td>\n      <td>0.5</td>\n      <td>0.5</td>\n      <td>0.0</td>\n      <td>non-bankruptcy</td>\n    </tr>\n    <tr>\n      <th>248</th>\n      <td>1.0</td>\n      <td>0.0</td>\n      <td>0.5</td>\n      <td>1.0</td>\n      <td>0.5</td>\n      <td>0.0</td>\n      <td>non-bankruptcy</td>\n    </tr>\n    <tr>\n      <th>249</th>\n      <td>1.0</td>\n      <td>0.0</td>\n      <td>0.5</td>\n      <td>0.5</td>\n      <td>1.0</td>\n      <td>1.0</td>\n      <td>non-bankruptcy</td>\n    </tr>\n  </tbody>\n</table>\n<p>147 rows × 7 columns</p>\n</div>",
            "text/plain": "     industrial_risk   management_risk   financial_flexibility   credibility  \\\n11               0.0               1.0                     0.0           0.0   \n13               1.0               1.0                     0.0           0.0   \n15               0.5               1.0                     0.0           0.0   \n16               0.5               1.0                     0.0           0.0   \n18               0.5               1.0                     0.0           0.0   \n..               ...               ...                     ...           ...   \n245              0.0               1.0                     1.0           1.0   \n246              1.0               1.0                     0.5           1.0   \n247              0.0               1.0                     1.0           0.5   \n248              1.0               0.0                     0.5           1.0   \n249              1.0               0.0                     0.5           0.5   \n\n      competitiveness   operating_risk           class  \n11                0.0              1.0      bankruptcy  \n13                0.0              1.0      bankruptcy  \n15                0.0              0.5      bankruptcy  \n16                0.0              0.5      bankruptcy  \n18                0.0              1.0      bankruptcy  \n..                ...              ...             ...  \n245               1.0              1.0  non-bankruptcy  \n246               1.0              0.0  non-bankruptcy  \n247               0.5              0.0  non-bankruptcy  \n248               0.5              0.0  non-bankruptcy  \n249               1.0              1.0  non-bankruptcy  \n\n[147 rows x 7 columns]"
          },
          "execution_count": 6,
          "metadata": {},
          "output_type": "execute_result"
        }
      ]
    },
    {
      "metadata": {
        "trusted": false
      },
      "id": "7a6ad257",
      "cell_type": "code",
      "source": "Data.columns=Data.columns.str.replace(' ','')",
      "execution_count": 7,
      "outputs": []
    },
    {
      "metadata": {
        "trusted": false
      },
      "id": "28839362",
      "cell_type": "code",
      "source": "Data.columns",
      "execution_count": 8,
      "outputs": [
        {
          "data": {
            "text/plain": "Index(['industrial_risk', 'management_risk', 'financial_flexibility',\n       'credibility', 'competitiveness', 'operating_risk', 'class'],\n      dtype='object')"
          },
          "execution_count": 8,
          "metadata": {},
          "output_type": "execute_result"
        }
      ]
    },
    {
      "metadata": {
        "trusted": false
      },
      "id": "ced62dd0",
      "cell_type": "code",
      "source": "Data['class']=Data['class'].astype('category')",
      "execution_count": 9,
      "outputs": []
    },
    {
      "metadata": {
        "trusted": false
      },
      "id": "311ed8e2",
      "cell_type": "code",
      "source": "Data.shape",
      "execution_count": 10,
      "outputs": [
        {
          "data": {
            "text/plain": "(250, 7)"
          },
          "execution_count": 10,
          "metadata": {},
          "output_type": "execute_result"
        }
      ]
    },
    {
      "metadata": {
        "trusted": false
      },
      "id": "9e30e698",
      "cell_type": "code",
      "source": "from sklearn.preprocessing import LabelEncoder",
      "execution_count": 11,
      "outputs": []
    },
    {
      "metadata": {
        "trusted": false
      },
      "id": "7101fbdf",
      "cell_type": "code",
      "source": "LE=LabelEncoder()",
      "execution_count": 12,
      "outputs": []
    },
    {
      "metadata": {
        "trusted": false
      },
      "id": "4f25db7c",
      "cell_type": "code",
      "source": "Data1=Data.copy()",
      "execution_count": 13,
      "outputs": []
    },
    {
      "metadata": {
        "trusted": false
      },
      "id": "1102add6",
      "cell_type": "code",
      "source": "Data1['class_value']=LE.fit_transform(Data1['class'])",
      "execution_count": 14,
      "outputs": []
    },
    {
      "metadata": {
        "trusted": false
      },
      "id": "600053e2",
      "cell_type": "code",
      "source": "Data1",
      "execution_count": 15,
      "outputs": [
        {
          "data": {
            "text/html": "<div>\n<style scoped>\n    .dataframe tbody tr th:only-of-type {\n        vertical-align: middle;\n    }\n\n    .dataframe tbody tr th {\n        vertical-align: top;\n    }\n\n    .dataframe thead th {\n        text-align: right;\n    }\n</style>\n<table border=\"1\" class=\"dataframe\">\n  <thead>\n    <tr style=\"text-align: right;\">\n      <th></th>\n      <th>industrial_risk</th>\n      <th>management_risk</th>\n      <th>financial_flexibility</th>\n      <th>credibility</th>\n      <th>competitiveness</th>\n      <th>operating_risk</th>\n      <th>class</th>\n      <th>class_value</th>\n    </tr>\n  </thead>\n  <tbody>\n    <tr>\n      <th>0</th>\n      <td>0.5</td>\n      <td>1.0</td>\n      <td>0.0</td>\n      <td>0.0</td>\n      <td>0.0</td>\n      <td>0.5</td>\n      <td>bankruptcy</td>\n      <td>0</td>\n    </tr>\n    <tr>\n      <th>1</th>\n      <td>0.0</td>\n      <td>1.0</td>\n      <td>0.0</td>\n      <td>0.0</td>\n      <td>0.0</td>\n      <td>1.0</td>\n      <td>bankruptcy</td>\n      <td>0</td>\n    </tr>\n    <tr>\n      <th>2</th>\n      <td>1.0</td>\n      <td>0.0</td>\n      <td>0.0</td>\n      <td>0.0</td>\n      <td>0.0</td>\n      <td>1.0</td>\n      <td>bankruptcy</td>\n      <td>0</td>\n    </tr>\n    <tr>\n      <th>3</th>\n      <td>0.5</td>\n      <td>0.0</td>\n      <td>0.0</td>\n      <td>0.5</td>\n      <td>0.0</td>\n      <td>1.0</td>\n      <td>bankruptcy</td>\n      <td>0</td>\n    </tr>\n    <tr>\n      <th>4</th>\n      <td>1.0</td>\n      <td>1.0</td>\n      <td>0.0</td>\n      <td>0.0</td>\n      <td>0.0</td>\n      <td>1.0</td>\n      <td>bankruptcy</td>\n      <td>0</td>\n    </tr>\n    <tr>\n      <th>...</th>\n      <td>...</td>\n      <td>...</td>\n      <td>...</td>\n      <td>...</td>\n      <td>...</td>\n      <td>...</td>\n      <td>...</td>\n      <td>...</td>\n    </tr>\n    <tr>\n      <th>245</th>\n      <td>0.0</td>\n      <td>1.0</td>\n      <td>1.0</td>\n      <td>1.0</td>\n      <td>1.0</td>\n      <td>1.0</td>\n      <td>non-bankruptcy</td>\n      <td>1</td>\n    </tr>\n    <tr>\n      <th>246</th>\n      <td>1.0</td>\n      <td>1.0</td>\n      <td>0.5</td>\n      <td>1.0</td>\n      <td>1.0</td>\n      <td>0.0</td>\n      <td>non-bankruptcy</td>\n      <td>1</td>\n    </tr>\n    <tr>\n      <th>247</th>\n      <td>0.0</td>\n      <td>1.0</td>\n      <td>1.0</td>\n      <td>0.5</td>\n      <td>0.5</td>\n      <td>0.0</td>\n      <td>non-bankruptcy</td>\n      <td>1</td>\n    </tr>\n    <tr>\n      <th>248</th>\n      <td>1.0</td>\n      <td>0.0</td>\n      <td>0.5</td>\n      <td>1.0</td>\n      <td>0.5</td>\n      <td>0.0</td>\n      <td>non-bankruptcy</td>\n      <td>1</td>\n    </tr>\n    <tr>\n      <th>249</th>\n      <td>1.0</td>\n      <td>0.0</td>\n      <td>0.5</td>\n      <td>0.5</td>\n      <td>1.0</td>\n      <td>1.0</td>\n      <td>non-bankruptcy</td>\n      <td>1</td>\n    </tr>\n  </tbody>\n</table>\n<p>250 rows × 8 columns</p>\n</div>",
            "text/plain": "     industrial_risk  management_risk  financial_flexibility  credibility  \\\n0                0.5              1.0                    0.0          0.0   \n1                0.0              1.0                    0.0          0.0   \n2                1.0              0.0                    0.0          0.0   \n3                0.5              0.0                    0.0          0.5   \n4                1.0              1.0                    0.0          0.0   \n..               ...              ...                    ...          ...   \n245              0.0              1.0                    1.0          1.0   \n246              1.0              1.0                    0.5          1.0   \n247              0.0              1.0                    1.0          0.5   \n248              1.0              0.0                    0.5          1.0   \n249              1.0              0.0                    0.5          0.5   \n\n     competitiveness  operating_risk           class  class_value  \n0                0.0             0.5      bankruptcy            0  \n1                0.0             1.0      bankruptcy            0  \n2                0.0             1.0      bankruptcy            0  \n3                0.0             1.0      bankruptcy            0  \n4                0.0             1.0      bankruptcy            0  \n..               ...             ...             ...          ...  \n245              1.0             1.0  non-bankruptcy            1  \n246              1.0             0.0  non-bankruptcy            1  \n247              0.5             0.0  non-bankruptcy            1  \n248              0.5             0.0  non-bankruptcy            1  \n249              1.0             1.0  non-bankruptcy            1  \n\n[250 rows x 8 columns]"
          },
          "execution_count": 15,
          "metadata": {},
          "output_type": "execute_result"
        }
      ]
    },
    {
      "metadata": {
        "trusted": false
      },
      "id": "42d062b1",
      "cell_type": "code",
      "source": "Data",
      "execution_count": 16,
      "outputs": [
        {
          "data": {
            "text/html": "<div>\n<style scoped>\n    .dataframe tbody tr th:only-of-type {\n        vertical-align: middle;\n    }\n\n    .dataframe tbody tr th {\n        vertical-align: top;\n    }\n\n    .dataframe thead th {\n        text-align: right;\n    }\n</style>\n<table border=\"1\" class=\"dataframe\">\n  <thead>\n    <tr style=\"text-align: right;\">\n      <th></th>\n      <th>industrial_risk</th>\n      <th>management_risk</th>\n      <th>financial_flexibility</th>\n      <th>credibility</th>\n      <th>competitiveness</th>\n      <th>operating_risk</th>\n      <th>class</th>\n    </tr>\n  </thead>\n  <tbody>\n    <tr>\n      <th>0</th>\n      <td>0.5</td>\n      <td>1.0</td>\n      <td>0.0</td>\n      <td>0.0</td>\n      <td>0.0</td>\n      <td>0.5</td>\n      <td>bankruptcy</td>\n    </tr>\n    <tr>\n      <th>1</th>\n      <td>0.0</td>\n      <td>1.0</td>\n      <td>0.0</td>\n      <td>0.0</td>\n      <td>0.0</td>\n      <td>1.0</td>\n      <td>bankruptcy</td>\n    </tr>\n    <tr>\n      <th>2</th>\n      <td>1.0</td>\n      <td>0.0</td>\n      <td>0.0</td>\n      <td>0.0</td>\n      <td>0.0</td>\n      <td>1.0</td>\n      <td>bankruptcy</td>\n    </tr>\n    <tr>\n      <th>3</th>\n      <td>0.5</td>\n      <td>0.0</td>\n      <td>0.0</td>\n      <td>0.5</td>\n      <td>0.0</td>\n      <td>1.0</td>\n      <td>bankruptcy</td>\n    </tr>\n    <tr>\n      <th>4</th>\n      <td>1.0</td>\n      <td>1.0</td>\n      <td>0.0</td>\n      <td>0.0</td>\n      <td>0.0</td>\n      <td>1.0</td>\n      <td>bankruptcy</td>\n    </tr>\n    <tr>\n      <th>...</th>\n      <td>...</td>\n      <td>...</td>\n      <td>...</td>\n      <td>...</td>\n      <td>...</td>\n      <td>...</td>\n      <td>...</td>\n    </tr>\n    <tr>\n      <th>245</th>\n      <td>0.0</td>\n      <td>1.0</td>\n      <td>1.0</td>\n      <td>1.0</td>\n      <td>1.0</td>\n      <td>1.0</td>\n      <td>non-bankruptcy</td>\n    </tr>\n    <tr>\n      <th>246</th>\n      <td>1.0</td>\n      <td>1.0</td>\n      <td>0.5</td>\n      <td>1.0</td>\n      <td>1.0</td>\n      <td>0.0</td>\n      <td>non-bankruptcy</td>\n    </tr>\n    <tr>\n      <th>247</th>\n      <td>0.0</td>\n      <td>1.0</td>\n      <td>1.0</td>\n      <td>0.5</td>\n      <td>0.5</td>\n      <td>0.0</td>\n      <td>non-bankruptcy</td>\n    </tr>\n    <tr>\n      <th>248</th>\n      <td>1.0</td>\n      <td>0.0</td>\n      <td>0.5</td>\n      <td>1.0</td>\n      <td>0.5</td>\n      <td>0.0</td>\n      <td>non-bankruptcy</td>\n    </tr>\n    <tr>\n      <th>249</th>\n      <td>1.0</td>\n      <td>0.0</td>\n      <td>0.5</td>\n      <td>0.5</td>\n      <td>1.0</td>\n      <td>1.0</td>\n      <td>non-bankruptcy</td>\n    </tr>\n  </tbody>\n</table>\n<p>250 rows × 7 columns</p>\n</div>",
            "text/plain": "     industrial_risk  management_risk  financial_flexibility  credibility  \\\n0                0.5              1.0                    0.0          0.0   \n1                0.0              1.0                    0.0          0.0   \n2                1.0              0.0                    0.0          0.0   \n3                0.5              0.0                    0.0          0.5   \n4                1.0              1.0                    0.0          0.0   \n..               ...              ...                    ...          ...   \n245              0.0              1.0                    1.0          1.0   \n246              1.0              1.0                    0.5          1.0   \n247              0.0              1.0                    1.0          0.5   \n248              1.0              0.0                    0.5          1.0   \n249              1.0              0.0                    0.5          0.5   \n\n     competitiveness  operating_risk           class  \n0                0.0             0.5      bankruptcy  \n1                0.0             1.0      bankruptcy  \n2                0.0             1.0      bankruptcy  \n3                0.0             1.0      bankruptcy  \n4                0.0             1.0      bankruptcy  \n..               ...             ...             ...  \n245              1.0             1.0  non-bankruptcy  \n246              1.0             0.0  non-bankruptcy  \n247              0.5             0.0  non-bankruptcy  \n248              0.5             0.0  non-bankruptcy  \n249              1.0             1.0  non-bankruptcy  \n\n[250 rows x 7 columns]"
          },
          "execution_count": 16,
          "metadata": {},
          "output_type": "execute_result"
        }
      ]
    },
    {
      "metadata": {
        "trusted": false
      },
      "id": "96ee3c3d",
      "cell_type": "code",
      "source": "Data['class'].value_counts()",
      "execution_count": 17,
      "outputs": [
        {
          "data": {
            "text/plain": "non-bankruptcy    143\nbankruptcy        107\nName: class, dtype: int64"
          },
          "execution_count": 17,
          "metadata": {},
          "output_type": "execute_result"
        }
      ]
    },
    {
      "metadata": {
        "trusted": false
      },
      "id": "40e6eee2",
      "cell_type": "code",
      "source": "Label=Data1[['class','class_value']].drop_duplicates('class_value').set_index('class')\nprint(Label)",
      "execution_count": 18,
      "outputs": [
        {
          "name": "stdout",
          "output_type": "stream",
          "text": "                class_value\nclass                      \nbankruptcy                0\nnon-bankruptcy            1\n"
        }
      ]
    },
    {
      "metadata": {
        "trusted": false
      },
      "id": "42e77074",
      "cell_type": "code",
      "source": "import matplotlib.pyplot as plt\nimport seaborn as sns",
      "execution_count": 19,
      "outputs": []
    },
    {
      "metadata": {
        "trusted": false
      },
      "id": "f57eeda4",
      "cell_type": "code",
      "source": "fig = plt.figure(figsize = (15,15))\nax1 = fig.add_subplot(3,3,1)\nsns.countplot(data = Data, x = 'industrial_risk', ax=ax1)\n\nax2 = fig.add_subplot(3,3,2)\nsns.countplot(data = Data, x = 'management_risk', ax=ax2)\n\n\nax3 = fig.add_subplot(3,3,3)\nsns.countplot(data = Data, x = 'financial_flexibility', ax=ax3)\n\nax4 = fig.add_subplot(3,3,4)\nsns.countplot(data = Data, x = 'credibility', ax=ax4)\n\nax5 = fig.add_subplot(3,3,5)\nsns.countplot(data = Data, x = 'competitiveness', ax=ax5)\n\nax6 = fig.add_subplot(3,3,6)\nsns.countplot(data = Data, x = 'operating_risk', ax=ax6)\n\nax7 = fig.add_subplot(3,3,7)\nsns.countplot(data = Data, x = 'class', ax=ax7)\n\n\n",
      "execution_count": 20,
      "outputs": [
        {
          "data": {
            "text/plain": "<AxesSubplot:xlabel='class', ylabel='count'>"
          },
          "execution_count": 20,
          "metadata": {},
          "output_type": "execute_result"
        },
        {
          "data": {
            "image/png": "[encoded data removed]",
            "text/plain": "<Figure size 1080x1080 with 7 Axes>"
          },
          "metadata": {
            "needs_background": "light"
          },
          "output_type": "display_data"
        }
      ]
    },
    {
      "metadata": {
        "trusted": false
      },
      "id": "acb33c98",
      "cell_type": "code",
      "source": "pd.crosstab(Data['industrial_risk'], Data['class']).plot(kind=\"bar\")\npd.crosstab(Data['management_risk'], Data['class']).plot(kind=\"bar\")\npd.crosstab(Data['financial_flexibility'], Data['class']).plot(kind=\"bar\")\npd.crosstab(Data['credibility'], Data['class']).plot(kind=\"bar\")\npd.crosstab(Data['competitiveness'], Data['class']).plot(kind=\"bar\")\npd.crosstab(Data['operating_risk'], Data['class']).plot(kind=\"bar\")\n",
      "execution_count": 21,
      "outputs": [
        {
          "data": {
            "text/plain": "<AxesSubplot:xlabel='operating_risk'>"
          },
          "execution_count": 21,
          "metadata": {},
          "output_type": "execute_result"
        },
        {
          "data": {
            "image/png": "[encoded data removed]",
            "text/plain": "<Figure size 432x288 with 1 Axes>"
          },
          "metadata": {
            "needs_background": "light"
          },
          "output_type": "display_data"
        },
        {
          "data": {
            "image/png": "[encoded data removed]",
            "text/plain": "<Figure size 432x288 with 1 Axes>"
          },
          "metadata": {
            "needs_background": "light"
          },
          "output_type": "display_data"
        },
        {
          "data": {
            "image/png": "[encoded data removed]",
            "text/plain": "<Figure size 432x288 with 1 Axes>"
          },
          "metadata": {
            "needs_background": "light"
          },
          "output_type": "display_data"
        },
        {
          "data": {
            "image/png": "[encoded data removed]",
            "text/plain": "<Figure size 432x288 with 1 Axes>"
          },
          "metadata": {
            "needs_background": "light"
          },
          "output_type": "display_data"
        },
        {
          "data": {
            "image/png": "[encoded data removed]",
            "text/plain": "<Figure size 432x288 with 1 Axes>"
          },
          "metadata": {
            "needs_background": "light"
          },
          "output_type": "display_data"
        },
        {
          "data": {
            "image/png": "[encoded data removed]",
            "text/plain": "<Figure size 432x288 with 1 Axes>"
          },
          "metadata": {
            "needs_background": "light"
          },
          "output_type": "display_data"
        }
      ]
    },
    {
      "metadata": {
        "trusted": false
      },
      "id": "085975c5",
      "cell_type": "code",
      "source": "Data['class'].value_counts().plot(kind='pie',autopct='%1.1f%%')",
      "execution_count": 22,
      "outputs": [
        {
          "data": {
            "text/plain": "<AxesSubplot:ylabel='class'>"
          },
          "execution_count": 22,
          "metadata": {},
          "output_type": "execute_result"
        },
        {
          "data": {
            "image/png": "[encoded data removed]",
            "text/plain": "<Figure size 432x288 with 1 Axes>"
          },
          "metadata": {},
          "output_type": "display_data"
        }
      ]
    },
    {
      "metadata": {
        "trusted": false
      },
      "id": "60a9397c",
      "cell_type": "code",
      "source": "import ppscore as pps",
      "execution_count": 23,
      "outputs": []
    },
    {
      "metadata": {
        "trusted": false
      },
      "id": "7bf3f8a3",
      "cell_type": "code",
      "source": "import seaborn as sns\nmatrix_df = pps.matrix(Data).pivot(columns='x', index='y',  values='ppscore')\nsns.heatmap(matrix_df, annot=True)",
      "execution_count": 24,
      "outputs": [
        {
          "data": {
            "text/plain": "<AxesSubplot:xlabel='x', ylabel='y'>"
          },
          "execution_count": 24,
          "metadata": {},
          "output_type": "execute_result"
        },
        {
          "data": {
            "image/png": "[encoded data removed]",
            "text/plain": "<Figure size 432x288 with 2 Axes>"
          },
          "metadata": {
            "needs_background": "light"
          },
          "output_type": "display_data"
        }
      ]
    },
    {
      "metadata": {
        "trusted": false
      },
      "id": "830805fc",
      "cell_type": "code",
      "source": "x=Data1.iloc[:,0:6]",
      "execution_count": 25,
      "outputs": []
    },
    {
      "metadata": {
        "trusted": false
      },
      "id": "2217693b",
      "cell_type": "code",
      "source": "x",
      "execution_count": 26,
      "outputs": [
        {
          "data": {
            "text/html": "<div>\n<style scoped>\n    .dataframe tbody tr th:only-of-type {\n        vertical-align: middle;\n    }\n\n    .dataframe tbody tr th {\n        vertical-align: top;\n    }\n\n    .dataframe thead th {\n        text-align: right;\n    }\n</style>\n<table border=\"1\" class=\"dataframe\">\n  <thead>\n    <tr style=\"text-align: right;\">\n      <th></th>\n      <th>industrial_risk</th>\n      <th>management_risk</th>\n      <th>financial_flexibility</th>\n      <th>credibility</th>\n      <th>competitiveness</th>\n      <th>operating_risk</th>\n    </tr>\n  </thead>\n  <tbody>\n    <tr>\n      <th>0</th>\n      <td>0.5</td>\n      <td>1.0</td>\n      <td>0.0</td>\n      <td>0.0</td>\n      <td>0.0</td>\n      <td>0.5</td>\n    </tr>\n    <tr>\n      <th>1</th>\n      <td>0.0</td>\n      <td>1.0</td>\n      <td>0.0</td>\n      <td>0.0</td>\n      <td>0.0</td>\n      <td>1.0</td>\n    </tr>\n    <tr>\n      <th>2</th>\n      <td>1.0</td>\n      <td>0.0</td>\n      <td>0.0</td>\n      <td>0.0</td>\n      <td>0.0</td>\n      <td>1.0</td>\n    </tr>\n    <tr>\n      <th>3</th>\n      <td>0.5</td>\n      <td>0.0</td>\n      <td>0.0</td>\n      <td>0.5</td>\n      <td>0.0</td>\n      <td>1.0</td>\n    </tr>\n    <tr>\n      <th>4</th>\n      <td>1.0</td>\n      <td>1.0</td>\n      <td>0.0</td>\n      <td>0.0</td>\n      <td>0.0</td>\n      <td>1.0</td>\n    </tr>\n    <tr>\n      <th>...</th>\n      <td>...</td>\n      <td>...</td>\n      <td>...</td>\n      <td>...</td>\n      <td>...</td>\n      <td>...</td>\n    </tr>\n    <tr>\n      <th>245</th>\n      <td>0.0</td>\n      <td>1.0</td>\n      <td>1.0</td>\n      <td>1.0</td>\n      <td>1.0</td>\n      <td>1.0</td>\n    </tr>\n    <tr>\n      <th>246</th>\n      <td>1.0</td>\n      <td>1.0</td>\n      <td>0.5</td>\n      <td>1.0</td>\n      <td>1.0</td>\n      <td>0.0</td>\n    </tr>\n    <tr>\n      <th>247</th>\n      <td>0.0</td>\n      <td>1.0</td>\n      <td>1.0</td>\n      <td>0.5</td>\n      <td>0.5</td>\n      <td>0.0</td>\n    </tr>\n    <tr>\n      <th>248</th>\n      <td>1.0</td>\n      <td>0.0</td>\n      <td>0.5</td>\n      <td>1.0</td>\n      <td>0.5</td>\n      <td>0.0</td>\n    </tr>\n    <tr>\n      <th>249</th>\n      <td>1.0</td>\n      <td>0.0</td>\n      <td>0.5</td>\n      <td>0.5</td>\n      <td>1.0</td>\n      <td>1.0</td>\n    </tr>\n  </tbody>\n</table>\n<p>250 rows × 6 columns</p>\n</div>",
            "text/plain": "     industrial_risk  management_risk  financial_flexibility  credibility  \\\n0                0.5              1.0                    0.0          0.0   \n1                0.0              1.0                    0.0          0.0   \n2                1.0              0.0                    0.0          0.0   \n3                0.5              0.0                    0.0          0.5   \n4                1.0              1.0                    0.0          0.0   \n..               ...              ...                    ...          ...   \n245              0.0              1.0                    1.0          1.0   \n246              1.0              1.0                    0.5          1.0   \n247              0.0              1.0                    1.0          0.5   \n248              1.0              0.0                    0.5          1.0   \n249              1.0              0.0                    0.5          0.5   \n\n     competitiveness  operating_risk  \n0                0.0             0.5  \n1                0.0             1.0  \n2                0.0             1.0  \n3                0.0             1.0  \n4                0.0             1.0  \n..               ...             ...  \n245              1.0             1.0  \n246              1.0             0.0  \n247              0.5             0.0  \n248              0.5             0.0  \n249              1.0             1.0  \n\n[250 rows x 6 columns]"
          },
          "execution_count": 26,
          "metadata": {},
          "output_type": "execute_result"
        }
      ]
    },
    {
      "metadata": {
        "trusted": false
      },
      "id": "e2a9b18a",
      "cell_type": "code",
      "source": "Data1",
      "execution_count": 27,
      "outputs": [
        {
          "data": {
            "text/html": "<div>\n<style scoped>\n    .dataframe tbody tr th:only-of-type {\n        vertical-align: middle;\n    }\n\n    .dataframe tbody tr th {\n        vertical-align: top;\n    }\n\n    .dataframe thead th {\n        text-align: right;\n    }\n</style>\n<table border=\"1\" class=\"dataframe\">\n  <thead>\n    <tr style=\"text-align: right;\">\n      <th></th>\n      <th>industrial_risk</th>\n      <th>management_risk</th>\n      <th>financial_flexibility</th>\n      <th>credibility</th>\n      <th>competitiveness</th>\n      <th>operating_risk</th>\n      <th>class</th>\n      <th>class_value</th>\n    </tr>\n  </thead>\n  <tbody>\n    <tr>\n      <th>0</th>\n      <td>0.5</td>\n      <td>1.0</td>\n      <td>0.0</td>\n      <td>0.0</td>\n      <td>0.0</td>\n      <td>0.5</td>\n      <td>bankruptcy</td>\n      <td>0</td>\n    </tr>\n    <tr>\n      <th>1</th>\n      <td>0.0</td>\n      <td>1.0</td>\n      <td>0.0</td>\n      <td>0.0</td>\n      <td>0.0</td>\n      <td>1.0</td>\n      <td>bankruptcy</td>\n      <td>0</td>\n    </tr>\n    <tr>\n      <th>2</th>\n      <td>1.0</td>\n      <td>0.0</td>\n      <td>0.0</td>\n      <td>0.0</td>\n      <td>0.0</td>\n      <td>1.0</td>\n      <td>bankruptcy</td>\n      <td>0</td>\n    </tr>\n    <tr>\n      <th>3</th>\n      <td>0.5</td>\n      <td>0.0</td>\n      <td>0.0</td>\n      <td>0.5</td>\n      <td>0.0</td>\n      <td>1.0</td>\n      <td>bankruptcy</td>\n      <td>0</td>\n    </tr>\n    <tr>\n      <th>4</th>\n      <td>1.0</td>\n      <td>1.0</td>\n      <td>0.0</td>\n      <td>0.0</td>\n      <td>0.0</td>\n      <td>1.0</td>\n      <td>bankruptcy</td>\n      <td>0</td>\n    </tr>\n    <tr>\n      <th>...</th>\n      <td>...</td>\n      <td>...</td>\n      <td>...</td>\n      <td>...</td>\n      <td>...</td>\n      <td>...</td>\n      <td>...</td>\n      <td>...</td>\n    </tr>\n    <tr>\n      <th>245</th>\n      <td>0.0</td>\n      <td>1.0</td>\n      <td>1.0</td>\n      <td>1.0</td>\n      <td>1.0</td>\n      <td>1.0</td>\n      <td>non-bankruptcy</td>\n      <td>1</td>\n    </tr>\n    <tr>\n      <th>246</th>\n      <td>1.0</td>\n      <td>1.0</td>\n      <td>0.5</td>\n      <td>1.0</td>\n      <td>1.0</td>\n      <td>0.0</td>\n      <td>non-bankruptcy</td>\n      <td>1</td>\n    </tr>\n    <tr>\n      <th>247</th>\n      <td>0.0</td>\n      <td>1.0</td>\n      <td>1.0</td>\n      <td>0.5</td>\n      <td>0.5</td>\n      <td>0.0</td>\n      <td>non-bankruptcy</td>\n      <td>1</td>\n    </tr>\n    <tr>\n      <th>248</th>\n      <td>1.0</td>\n      <td>0.0</td>\n      <td>0.5</td>\n      <td>1.0</td>\n      <td>0.5</td>\n      <td>0.0</td>\n      <td>non-bankruptcy</td>\n      <td>1</td>\n    </tr>\n    <tr>\n      <th>249</th>\n      <td>1.0</td>\n      <td>0.0</td>\n      <td>0.5</td>\n      <td>0.5</td>\n      <td>1.0</td>\n      <td>1.0</td>\n      <td>non-bankruptcy</td>\n      <td>1</td>\n    </tr>\n  </tbody>\n</table>\n<p>250 rows × 8 columns</p>\n</div>",
            "text/plain": "     industrial_risk  management_risk  financial_flexibility  credibility  \\\n0                0.5              1.0                    0.0          0.0   \n1                0.0              1.0                    0.0          0.0   \n2                1.0              0.0                    0.0          0.0   \n3                0.5              0.0                    0.0          0.5   \n4                1.0              1.0                    0.0          0.0   \n..               ...              ...                    ...          ...   \n245              0.0              1.0                    1.0          1.0   \n246              1.0              1.0                    0.5          1.0   \n247              0.0              1.0                    1.0          0.5   \n248              1.0              0.0                    0.5          1.0   \n249              1.0              0.0                    0.5          0.5   \n\n     competitiveness  operating_risk           class  class_value  \n0                0.0             0.5      bankruptcy            0  \n1                0.0             1.0      bankruptcy            0  \n2                0.0             1.0      bankruptcy            0  \n3                0.0             1.0      bankruptcy            0  \n4                0.0             1.0      bankruptcy            0  \n..               ...             ...             ...          ...  \n245              1.0             1.0  non-bankruptcy            1  \n246              1.0             0.0  non-bankruptcy            1  \n247              0.5             0.0  non-bankruptcy            1  \n248              0.5             0.0  non-bankruptcy            1  \n249              1.0             1.0  non-bankruptcy            1  \n\n[250 rows x 8 columns]"
          },
          "execution_count": 27,
          "metadata": {},
          "output_type": "execute_result"
        }
      ]
    },
    {
      "metadata": {
        "trusted": false
      },
      "id": "54a0efe1",
      "cell_type": "code",
      "source": "y=Data1.iloc[:,-1]",
      "execution_count": 28,
      "outputs": []
    },
    {
      "metadata": {
        "trusted": false
      },
      "id": "8ea87c3d",
      "cell_type": "code",
      "source": "y",
      "execution_count": 29,
      "outputs": [
        {
          "data": {
            "text/plain": "0      0\n1      0\n2      0\n3      0\n4      0\n      ..\n245    1\n246    1\n247    1\n248    1\n249    1\nName: class_value, Length: 250, dtype: int32"
          },
          "execution_count": 29,
          "metadata": {},
          "output_type": "execute_result"
        }
      ]
    },
    {
      "metadata": {
        "trusted": false
      },
      "id": "e02cfc91",
      "cell_type": "code",
      "source": "from sklearn.model_selection import train_test_split\nfrom sklearn.metrics import confusion_matrix\nfrom sklearn.metrics import classification_report\nfrom sklearn.linear_model import LogisticRegression",
      "execution_count": 30,
      "outputs": []
    },
    {
      "metadata": {
        "trusted": false
      },
      "id": "cab91192",
      "cell_type": "code",
      "source": "x_train, x_test,y_train,y_test = train_test_split(x,y, test_size=0.3,random_state=4)",
      "execution_count": 31,
      "outputs": []
    },
    {
      "metadata": {
        "trusted": false
      },
      "id": "89ae1a5f",
      "cell_type": "code",
      "source": "x_train",
      "execution_count": 32,
      "outputs": [
        {
          "data": {
            "text/html": "<div>\n<style scoped>\n    .dataframe tbody tr th:only-of-type {\n        vertical-align: middle;\n    }\n\n    .dataframe tbody tr th {\n        vertical-align: top;\n    }\n\n    .dataframe thead th {\n        text-align: right;\n    }\n</style>\n<table border=\"1\" class=\"dataframe\">\n  <thead>\n    <tr style=\"text-align: right;\">\n      <th></th>\n      <th>industrial_risk</th>\n      <th>management_risk</th>\n      <th>financial_flexibility</th>\n      <th>credibility</th>\n      <th>competitiveness</th>\n      <th>operating_risk</th>\n    </tr>\n  </thead>\n  <tbody>\n    <tr>\n      <th>108</th>\n      <td>1.0</td>\n      <td>1.0</td>\n      <td>0.5</td>\n      <td>0.5</td>\n      <td>0.5</td>\n      <td>1.0</td>\n    </tr>\n    <tr>\n      <th>62</th>\n      <td>0.0</td>\n      <td>1.0</td>\n      <td>0.0</td>\n      <td>0.0</td>\n      <td>0.0</td>\n      <td>1.0</td>\n    </tr>\n    <tr>\n      <th>83</th>\n      <td>1.0</td>\n      <td>0.5</td>\n      <td>0.0</td>\n      <td>0.0</td>\n      <td>0.0</td>\n      <td>0.0</td>\n    </tr>\n    <tr>\n      <th>228</th>\n      <td>1.0</td>\n      <td>1.0</td>\n      <td>1.0</td>\n      <td>0.5</td>\n      <td>0.5</td>\n      <td>1.0</td>\n    </tr>\n    <tr>\n      <th>153</th>\n      <td>0.0</td>\n      <td>0.5</td>\n      <td>1.0</td>\n      <td>1.0</td>\n      <td>1.0</td>\n      <td>1.0</td>\n    </tr>\n    <tr>\n      <th>...</th>\n      <td>...</td>\n      <td>...</td>\n      <td>...</td>\n      <td>...</td>\n      <td>...</td>\n      <td>...</td>\n    </tr>\n    <tr>\n      <th>129</th>\n      <td>0.5</td>\n      <td>0.5</td>\n      <td>0.5</td>\n      <td>0.5</td>\n      <td>1.0</td>\n      <td>0.5</td>\n    </tr>\n    <tr>\n      <th>197</th>\n      <td>0.5</td>\n      <td>0.5</td>\n      <td>0.5</td>\n      <td>1.0</td>\n      <td>1.0</td>\n      <td>0.0</td>\n    </tr>\n    <tr>\n      <th>183</th>\n      <td>0.5</td>\n      <td>0.0</td>\n      <td>0.0</td>\n      <td>1.0</td>\n      <td>0.5</td>\n      <td>0.0</td>\n    </tr>\n    <tr>\n      <th>174</th>\n      <td>0.0</td>\n      <td>0.5</td>\n      <td>0.0</td>\n      <td>0.5</td>\n      <td>1.0</td>\n      <td>1.0</td>\n    </tr>\n    <tr>\n      <th>122</th>\n      <td>1.0</td>\n      <td>1.0</td>\n      <td>0.5</td>\n      <td>1.0</td>\n      <td>0.5</td>\n      <td>1.0</td>\n    </tr>\n  </tbody>\n</table>\n<p>175 rows × 6 columns</p>\n</div>",
            "text/plain": "     industrial_risk  management_risk  financial_flexibility  credibility  \\\n108              1.0              1.0                    0.5          0.5   \n62               0.0              1.0                    0.0          0.0   \n83               1.0              0.5                    0.0          0.0   \n228              1.0              1.0                    1.0          0.5   \n153              0.0              0.5                    1.0          1.0   \n..               ...              ...                    ...          ...   \n129              0.5              0.5                    0.5          0.5   \n197              0.5              0.5                    0.5          1.0   \n183              0.5              0.0                    0.0          1.0   \n174              0.0              0.5                    0.0          0.5   \n122              1.0              1.0                    0.5          1.0   \n\n     competitiveness  operating_risk  \n108              0.5             1.0  \n62               0.0             1.0  \n83               0.0             0.0  \n228              0.5             1.0  \n153              1.0             1.0  \n..               ...             ...  \n129              1.0             0.5  \n197              1.0             0.0  \n183              0.5             0.0  \n174              1.0             1.0  \n122              0.5             1.0  \n\n[175 rows x 6 columns]"
          },
          "execution_count": 32,
          "metadata": {},
          "output_type": "execute_result"
        }
      ]
    },
    {
      "metadata": {
        "trusted": false
      },
      "id": "5f210807",
      "cell_type": "code",
      "source": "model1=LogisticRegression()",
      "execution_count": 33,
      "outputs": []
    },
    {
      "metadata": {
        "trusted": false
      },
      "id": "7441bbd6",
      "cell_type": "code",
      "source": "model1.fit(x_train,y_train)",
      "execution_count": 34,
      "outputs": [
        {
          "data": {
            "text/plain": "LogisticRegression()"
          },
          "execution_count": 34,
          "metadata": {},
          "output_type": "execute_result"
        }
      ]
    },
    {
      "metadata": {
        "trusted": false
      },
      "id": "e2b26a2f",
      "cell_type": "code",
      "source": "train_pred=model1.predict(x_train)",
      "execution_count": 35,
      "outputs": []
    },
    {
      "metadata": {
        "trusted": false
      },
      "id": "bc3888cc",
      "cell_type": "code",
      "source": "confusion_matrix1 = confusion_matrix(y_train,train_pred)\nprint (confusion_matrix1)",
      "execution_count": 36,
      "outputs": [
        {
          "name": "stdout",
          "output_type": "stream",
          "text": "[[ 72   1]\n [  0 102]]\n"
        }
      ]
    },
    {
      "metadata": {
        "trusted": false
      },
      "id": "380dce19",
      "cell_type": "code",
      "source": "print(classification_report(y_train,train_pred))",
      "execution_count": 37,
      "outputs": [
        {
          "name": "stdout",
          "output_type": "stream",
          "text": "              precision    recall  f1-score   support\n\n           0       1.00      0.99      0.99        73\n           1       0.99      1.00      1.00       102\n\n    accuracy                           0.99       175\n   macro avg       1.00      0.99      0.99       175\nweighted avg       0.99      0.99      0.99       175\n\n"
        }
      ]
    },
    {
      "metadata": {
        "trusted": false
      },
      "id": "d568d120",
      "cell_type": "code",
      "source": "test_pred=model1.predict(x_test)",
      "execution_count": 38,
      "outputs": []
    },
    {
      "metadata": {
        "trusted": false
      },
      "id": "105b0d09",
      "cell_type": "code",
      "source": "confusion_matrix2 = confusion_matrix(y_test,test_pred)\nprint (confusion_matrix2)",
      "execution_count": 39,
      "outputs": [
        {
          "name": "stdout",
          "output_type": "stream",
          "text": "[[34  0]\n [ 0 41]]\n"
        }
      ]
    },
    {
      "metadata": {
        "trusted": false
      },
      "id": "38e20bc1",
      "cell_type": "code",
      "source": "print(classification_report(y_test,test_pred))",
      "execution_count": 40,
      "outputs": [
        {
          "name": "stdout",
          "output_type": "stream",
          "text": "              precision    recall  f1-score   support\n\n           0       1.00      1.00      1.00        34\n           1       1.00      1.00      1.00        41\n\n    accuracy                           1.00        75\n   macro avg       1.00      1.00      1.00        75\nweighted avg       1.00      1.00      1.00        75\n\n"
        }
      ]
    },
    {
      "metadata": {
        "trusted": false
      },
      "id": "be2634a0",
      "cell_type": "code",
      "source": "from sklearn.ensemble import RandomForestClassifier",
      "execution_count": 41,
      "outputs": []
    },
    {
      "metadata": {
        "trusted": false
      },
      "id": "cc5f717d",
      "cell_type": "code",
      "source": "model2 = RandomForestClassifier(n_estimators=100, max_features=3)",
      "execution_count": 42,
      "outputs": []
    },
    {
      "metadata": {
        "trusted": false
      },
      "id": "9165e5b0",
      "cell_type": "code",
      "source": "model2.fit(x_train,y_train)",
      "execution_count": 43,
      "outputs": [
        {
          "data": {
            "text/plain": "RandomForestClassifier(max_features=3)"
          },
          "execution_count": 43,
          "metadata": {},
          "output_type": "execute_result"
        }
      ]
    },
    {
      "metadata": {
        "trusted": false
      },
      "id": "c455b03a",
      "cell_type": "code",
      "source": "train_pred=model2.predict(x_train)",
      "execution_count": 44,
      "outputs": []
    },
    {
      "metadata": {
        "trusted": false
      },
      "id": "33961fc0",
      "cell_type": "code",
      "source": "confusion_matrix1 = confusion_matrix(y_train,train_pred)\nprint (confusion_matrix1)",
      "execution_count": 45,
      "outputs": [
        {
          "name": "stdout",
          "output_type": "stream",
          "text": "[[ 73   0]\n [  0 102]]\n"
        }
      ]
    },
    {
      "metadata": {
        "trusted": false
      },
      "id": "b82d180c",
      "cell_type": "code",
      "source": "print(classification_report(y_train,train_pred))",
      "execution_count": 46,
      "outputs": [
        {
          "name": "stdout",
          "output_type": "stream",
          "text": "              precision    recall  f1-score   support\n\n           0       1.00      1.00      1.00        73\n           1       1.00      1.00      1.00       102\n\n    accuracy                           1.00       175\n   macro avg       1.00      1.00      1.00       175\nweighted avg       1.00      1.00      1.00       175\n\n"
        }
      ]
    },
    {
      "metadata": {
        "trusted": false
      },
      "id": "8e211178",
      "cell_type": "code",
      "source": "test_pred=model2.predict(x_test)",
      "execution_count": 47,
      "outputs": []
    },
    {
      "metadata": {
        "trusted": false
      },
      "id": "39238954",
      "cell_type": "code",
      "source": "confusion_matrix2 = confusion_matrix(y_test,test_pred)\nprint (confusion_matrix2)",
      "execution_count": 48,
      "outputs": [
        {
          "name": "stdout",
          "output_type": "stream",
          "text": "[[34  0]\n [ 0 41]]\n"
        }
      ]
    },
    {
      "metadata": {
        "trusted": false
      },
      "id": "73e7a6b8",
      "cell_type": "code",
      "source": "print(classification_report(y_test,test_pred))",
      "execution_count": 49,
      "outputs": [
        {
          "name": "stdout",
          "output_type": "stream",
          "text": "              precision    recall  f1-score   support\n\n           0       1.00      1.00      1.00        34\n           1       1.00      1.00      1.00        41\n\n    accuracy                           1.00        75\n   macro avg       1.00      1.00      1.00        75\nweighted avg       1.00      1.00      1.00        75\n\n"
        }
      ]
    },
    {
      "metadata": {
        "trusted": false
      },
      "id": "d3deb4d5",
      "cell_type": "code",
      "source": "from sklearn.tree import DecisionTreeClassifier\nfrom sklearn.svm import SVC\nfrom sklearn.ensemble import VotingClassifier",
      "execution_count": 50,
      "outputs": []
    },
    {
      "metadata": {
        "trusted": false
      },
      "id": "8db25f42",
      "cell_type": "code",
      "source": "estimators = []\nmodel_1 = LogisticRegression(max_iter=500)\nestimators.append(('logistic', model_1))\nmodel_2 = DecisionTreeClassifier()\nestimators.append(('cart', model_2))\nmodel_3 = SVC(max_iter=100)\nestimators.append(('svm', model_3))\nmodel3 = VotingClassifier(estimators)\n",
      "execution_count": 51,
      "outputs": []
    },
    {
      "metadata": {
        "trusted": false
      },
      "id": "4e8245b5",
      "cell_type": "code",
      "source": "model3.fit(x_train,y_train)",
      "execution_count": 52,
      "outputs": [
        {
          "data": {
            "text/plain": "VotingClassifier(estimators=[('logistic', LogisticRegression(max_iter=500)),\n                             ('cart', DecisionTreeClassifier()),\n                             ('svm', SVC(max_iter=100))])"
          },
          "execution_count": 52,
          "metadata": {},
          "output_type": "execute_result"
        }
      ]
    },
    {
      "metadata": {
        "trusted": false
      },
      "id": "f21f7ccd",
      "cell_type": "code",
      "source": "train_pred=model3.predict(x_train)",
      "execution_count": 53,
      "outputs": []
    },
    {
      "metadata": {
        "trusted": false
      },
      "id": "864c7123",
      "cell_type": "code",
      "source": "confusion_matrix1 = confusion_matrix(y_train,train_pred)\nprint (confusion_matrix1)",
      "execution_count": 54,
      "outputs": [
        {
          "name": "stdout",
          "output_type": "stream",
          "text": "[[ 73   0]\n [  0 102]]\n"
        }
      ]
    },
    {
      "metadata": {
        "trusted": false
      },
      "id": "87a5feff",
      "cell_type": "code",
      "source": "print(classification_report(y_train,train_pred))",
      "execution_count": 55,
      "outputs": [
        {
          "name": "stdout",
          "output_type": "stream",
          "text": "              precision    recall  f1-score   support\n\n           0       1.00      1.00      1.00        73\n           1       1.00      1.00      1.00       102\n\n    accuracy                           1.00       175\n   macro avg       1.00      1.00      1.00       175\nweighted avg       1.00      1.00      1.00       175\n\n"
        }
      ]
    },
    {
      "metadata": {
        "trusted": false
      },
      "id": "058bad06",
      "cell_type": "code",
      "source": "test_pred=model3.predict(x_test)",
      "execution_count": 56,
      "outputs": []
    },
    {
      "metadata": {
        "trusted": false
      },
      "id": "83085116",
      "cell_type": "code",
      "source": "confusion_matrix2 = confusion_matrix(y_test,test_pred)\nprint (confusion_matrix2)",
      "execution_count": 57,
      "outputs": [
        {
          "name": "stdout",
          "output_type": "stream",
          "text": "[[34  0]\n [ 0 41]]\n"
        }
      ]
    },
    {
      "metadata": {
        "trusted": false
      },
      "id": "8618e0e6",
      "cell_type": "code",
      "source": "print(classification_report(y_test,test_pred))",
      "execution_count": 58,
      "outputs": [
        {
          "name": "stdout",
          "output_type": "stream",
          "text": "              precision    recall  f1-score   support\n\n           0       1.00      1.00      1.00        34\n           1       1.00      1.00      1.00        41\n\n    accuracy                           1.00        75\n   macro avg       1.00      1.00      1.00        75\nweighted avg       1.00      1.00      1.00        75\n\n"
        }
      ]
    },
    {
      "metadata": {
        "trusted": false
      },
      "id": "b4f1e8c0",
      "cell_type": "code",
      "source": "from sklearn.neighbors import KNeighborsClassifier",
      "execution_count": 59,
      "outputs": []
    },
    {
      "metadata": {
        "trusted": false
      },
      "id": "ca609668",
      "cell_type": "code",
      "source": "model_4 = KNeighborsClassifier()",
      "execution_count": 60,
      "outputs": []
    },
    {
      "metadata": {
        "trusted": false
      },
      "id": "6e529507",
      "cell_type": "code",
      "source": "model_4.fit(x_train,y_train)",
      "execution_count": 61,
      "outputs": [
        {
          "data": {
            "text/plain": "KNeighborsClassifier()"
          },
          "execution_count": 61,
          "metadata": {},
          "output_type": "execute_result"
        }
      ]
    },
    {
      "metadata": {
        "trusted": false
      },
      "id": "0b5ebee6",
      "cell_type": "code",
      "source": "train_pred=model_4.predict(x_train)",
      "execution_count": 62,
      "outputs": []
    },
    {
      "metadata": {
        "trusted": false
      },
      "id": "264345fa",
      "cell_type": "code",
      "source": "confusion_matrix1 = confusion_matrix(y_train,train_pred)\nprint (confusion_matrix1)",
      "execution_count": 63,
      "outputs": [
        {
          "name": "stdout",
          "output_type": "stream",
          "text": "[[ 72   1]\n [  0 102]]\n"
        }
      ]
    },
    {
      "metadata": {
        "trusted": false
      },
      "id": "44d932b2",
      "cell_type": "code",
      "source": "print(classification_report(y_train,train_pred))",
      "execution_count": 64,
      "outputs": [
        {
          "name": "stdout",
          "output_type": "stream",
          "text": "              precision    recall  f1-score   support\n\n           0       1.00      0.99      0.99        73\n           1       0.99      1.00      1.00       102\n\n    accuracy                           0.99       175\n   macro avg       1.00      0.99      0.99       175\nweighted avg       0.99      0.99      0.99       175\n\n"
        }
      ]
    },
    {
      "metadata": {
        "trusted": false
      },
      "id": "7532e31d",
      "cell_type": "code",
      "source": "test_pred=model_4.predict(x_test)",
      "execution_count": 65,
      "outputs": []
    },
    {
      "metadata": {
        "trusted": false
      },
      "id": "1bc85ad9",
      "cell_type": "code",
      "source": "confusion_matrix2 = confusion_matrix(y_test,test_pred)\nprint (confusion_matrix2)",
      "execution_count": 66,
      "outputs": [
        {
          "name": "stdout",
          "output_type": "stream",
          "text": "[[34  0]\n [ 0 41]]\n"
        }
      ]
    },
    {
      "metadata": {
        "trusted": false
      },
      "id": "4ec79711",
      "cell_type": "code",
      "source": "print(classification_report(y_test,test_pred))",
      "execution_count": 67,
      "outputs": [
        {
          "name": "stdout",
          "output_type": "stream",
          "text": "              precision    recall  f1-score   support\n\n           0       1.00      1.00      1.00        34\n           1       1.00      1.00      1.00        41\n\n    accuracy                           1.00        75\n   macro avg       1.00      1.00      1.00        75\nweighted avg       1.00      1.00      1.00        75\n\n"
        }
      ]
    },
    {
      "metadata": {
        "trusted": false
      },
      "id": "4204d2e8",
      "cell_type": "code",
      "source": "n_neighbors = np.array(range(1,40))\nparam_grid = dict(n_neighbors=n_neighbors)",
      "execution_count": 68,
      "outputs": []
    },
    {
      "metadata": {
        "trusted": false
      },
      "id": "0848d4ab",
      "cell_type": "code",
      "source": "from sklearn.model_selection import GridSearchCV\nmodel = KNeighborsClassifier()\ngrid = GridSearchCV(estimator=model, param_grid=param_grid)\ngrid.fit(x_train,y_train)",
      "execution_count": 69,
      "outputs": [
        {
          "data": {
            "text/plain": "GridSearchCV(estimator=KNeighborsClassifier(),\n             param_grid={'n_neighbors': array([ 1,  2,  3,  4,  5,  6,  7,  8,  9, 10, 11, 12, 13, 14, 15, 16, 17,\n       18, 19, 20, 21, 22, 23, 24, 25, 26, 27, 28, 29, 30, 31, 32, 33, 34,\n       35, 36, 37, 38, 39])})"
          },
          "execution_count": 69,
          "metadata": {},
          "output_type": "execute_result"
        }
      ]
    },
    {
      "metadata": {
        "trusted": false
      },
      "id": "c6c03e87",
      "cell_type": "code",
      "source": "print(grid.best_score_)\nprint(grid.best_params_)",
      "execution_count": 70,
      "outputs": [
        {
          "name": "stdout",
          "output_type": "stream",
          "text": "0.9942857142857143\n{'n_neighbors': 1}\n"
        }
      ]
    },
    {
      "metadata": {
        "trusted": false
      },
      "id": "304fd4bc",
      "cell_type": "code",
      "source": "model4 = KNeighborsClassifier(n_neighbors=1)",
      "execution_count": 71,
      "outputs": []
    },
    {
      "metadata": {
        "trusted": false
      },
      "id": "046b4b89",
      "cell_type": "code",
      "source": "model4.fit(x_train,y_train)",
      "execution_count": 72,
      "outputs": [
        {
          "data": {
            "text/plain": "KNeighborsClassifier(n_neighbors=1)"
          },
          "execution_count": 72,
          "metadata": {},
          "output_type": "execute_result"
        }
      ]
    },
    {
      "metadata": {
        "trusted": false
      },
      "id": "46208bc4",
      "cell_type": "code",
      "source": "train_pred=model4.predict(x_train)",
      "execution_count": 73,
      "outputs": []
    },
    {
      "metadata": {
        "trusted": false
      },
      "id": "440d51e2",
      "cell_type": "code",
      "source": "confusion_matrix1 = confusion_matrix(y_train,train_pred)\nprint (confusion_matrix1)",
      "execution_count": 74,
      "outputs": [
        {
          "name": "stdout",
          "output_type": "stream",
          "text": "[[ 73   0]\n [  0 102]]\n"
        }
      ]
    },
    {
      "metadata": {
        "trusted": false
      },
      "id": "a17c4307",
      "cell_type": "code",
      "source": "print(classification_report(y_train,train_pred))",
      "execution_count": 75,
      "outputs": [
        {
          "name": "stdout",
          "output_type": "stream",
          "text": "              precision    recall  f1-score   support\n\n           0       1.00      1.00      1.00        73\n           1       1.00      1.00      1.00       102\n\n    accuracy                           1.00       175\n   macro avg       1.00      1.00      1.00       175\nweighted avg       1.00      1.00      1.00       175\n\n"
        }
      ]
    },
    {
      "metadata": {
        "trusted": false
      },
      "id": "2af549c3",
      "cell_type": "code",
      "source": "test_pred=model4.predict(x_test)",
      "execution_count": 76,
      "outputs": []
    },
    {
      "metadata": {
        "trusted": false
      },
      "id": "16fa8dc8",
      "cell_type": "code",
      "source": "confusion_matrix2 = confusion_matrix(y_test,test_pred)\nprint (confusion_matrix2)",
      "execution_count": 77,
      "outputs": [
        {
          "name": "stdout",
          "output_type": "stream",
          "text": "[[34  0]\n [ 0 41]]\n"
        }
      ]
    },
    {
      "metadata": {
        "trusted": false
      },
      "id": "4be44870",
      "cell_type": "code",
      "source": "print(classification_report(y_test,test_pred))",
      "execution_count": 78,
      "outputs": [
        {
          "name": "stdout",
          "output_type": "stream",
          "text": "              precision    recall  f1-score   support\n\n           0       1.00      1.00      1.00        34\n           1       1.00      1.00      1.00        41\n\n    accuracy                           1.00        75\n   macro avg       1.00      1.00      1.00        75\nweighted avg       1.00      1.00      1.00        75\n\n"
        }
      ]
    },
    {
      "metadata": {
        "trusted": false
      },
      "id": "f57ff925",
      "cell_type": "code",
      "source": "from sklearn import svm\nfrom sklearn.svm import SVC",
      "execution_count": 79,
      "outputs": []
    },
    {
      "metadata": {
        "trusted": false
      },
      "id": "b7ebd1d9",
      "cell_type": "code",
      "source": "classifier=SVC()",
      "execution_count": 80,
      "outputs": []
    },
    {
      "metadata": {
        "trusted": false
      },
      "id": "e1059e89",
      "cell_type": "code",
      "source": "model5=classifier.fit(x_train,y_train)",
      "execution_count": 81,
      "outputs": []
    },
    {
      "metadata": {
        "trusted": false
      },
      "id": "54c7d3a9",
      "cell_type": "code",
      "source": "train_predict=model5.predict(x_train)",
      "execution_count": 82,
      "outputs": []
    },
    {
      "metadata": {
        "trusted": false
      },
      "id": "2d9d9622",
      "cell_type": "code",
      "source": "confusion_matrix1 = confusion_matrix(y_train,train_pred)\nprint (confusion_matrix1)",
      "execution_count": 83,
      "outputs": [
        {
          "name": "stdout",
          "output_type": "stream",
          "text": "[[ 73   0]\n [  0 102]]\n"
        }
      ]
    },
    {
      "metadata": {
        "trusted": false
      },
      "id": "5b8dd866",
      "cell_type": "code",
      "source": "print(classification_report(y_train,train_pred))",
      "execution_count": 84,
      "outputs": [
        {
          "name": "stdout",
          "output_type": "stream",
          "text": "              precision    recall  f1-score   support\n\n           0       1.00      1.00      1.00        73\n           1       1.00      1.00      1.00       102\n\n    accuracy                           1.00       175\n   macro avg       1.00      1.00      1.00       175\nweighted avg       1.00      1.00      1.00       175\n\n"
        }
      ]
    },
    {
      "metadata": {
        "trusted": false
      },
      "id": "bf47f528",
      "cell_type": "code",
      "source": "test_predict=model5.predict(x_test)",
      "execution_count": 85,
      "outputs": []
    },
    {
      "metadata": {
        "trusted": false
      },
      "id": "eea96b5d",
      "cell_type": "code",
      "source": "confusion_matrix2 = confusion_matrix(y_test,test_pred)\nprint (confusion_matrix2)",
      "execution_count": 86,
      "outputs": [
        {
          "name": "stdout",
          "output_type": "stream",
          "text": "[[34  0]\n [ 0 41]]\n"
        }
      ]
    },
    {
      "metadata": {
        "trusted": false
      },
      "id": "12a8cd9d",
      "cell_type": "code",
      "source": "print(classification_report(y_test,test_pred))",
      "execution_count": 87,
      "outputs": [
        {
          "name": "stdout",
          "output_type": "stream",
          "text": "              precision    recall  f1-score   support\n\n           0       1.00      1.00      1.00        34\n           1       1.00      1.00      1.00        41\n\n    accuracy                           1.00        75\n   macro avg       1.00      1.00      1.00        75\nweighted avg       1.00      1.00      1.00        75\n\n"
        }
      ]
    },
    {
      "metadata": {
        "trusted": false
      },
      "id": "9f4a52ff",
      "cell_type": "code",
      "source": "Table={'Model_Name':['Logistic_Regression','Random_Forest','Voting_Classifier','KNN','SVM'],'Train_Accuracy %':[99,100,100,100,100],'Test_Accuracy %':[100,100,100,100,100]}",
      "execution_count": 88,
      "outputs": []
    },
    {
      "metadata": {
        "trusted": false
      },
      "id": "9f66c67d",
      "cell_type": "code",
      "source": "Table",
      "execution_count": 89,
      "outputs": [
        {
          "data": {
            "text/plain": "{'Model_Name': ['Logistic_Regression',\n  'Random_Forest',\n  'Voting_Classifier',\n  'KNN',\n  'SVM'],\n 'Train_Accuracy %': [99, 100, 100, 100, 100],\n 'Test_Accuracy %': [100, 100, 100, 100, 100]}"
          },
          "execution_count": 89,
          "metadata": {},
          "output_type": "execute_result"
        }
      ]
    },
    {
      "metadata": {
        "trusted": false
      },
      "id": "37049a01",
      "cell_type": "code",
      "source": "import xgboost\nfrom xgboost import XGBClassifier",
      "execution_count": 90,
      "outputs": []
    },
    {
      "metadata": {
        "trusted": false
      },
      "id": "8ae316a1",
      "cell_type": "code",
      "source": "model6 = XGBClassifier()\nmodel6.fit(x_train, y_train)",
      "execution_count": 91,
      "outputs": [
        {
          "data": {
            "text/plain": "XGBClassifier(base_score=0.5, booster='gbtree', callbacks=None,\n              colsample_bylevel=1, colsample_bynode=1, colsample_bytree=1,\n              early_stopping_rounds=None, enable_categorical=False,\n              eval_metric=None, gamma=0, gpu_id=-1, grow_policy='depthwise',\n              importance_type=None, interaction_constraints='',\n              learning_rate=0.300000012, max_bin=256, max_cat_to_onehot=4,\n              max_delta_step=0, max_depth=6, max_leaves=0, min_child_weight=1,\n              missing=nan, monotone_constraints='()', n_estimators=100,\n              n_jobs=0, num_parallel_tree=1, predictor='auto', random_state=0,\n              reg_alpha=0, reg_lambda=1, ...)"
          },
          "execution_count": 91,
          "metadata": {},
          "output_type": "execute_result"
        }
      ]
    },
    {
      "metadata": {
        "trusted": false
      },
      "id": "89038601",
      "cell_type": "code",
      "source": "train_pred=model6.predict(x_train)",
      "execution_count": 92,
      "outputs": []
    },
    {
      "metadata": {
        "trusted": false
      },
      "id": "75b435d8",
      "cell_type": "code",
      "source": "confusion_matrix1 = confusion_matrix(y_train,train_pred)\nprint (confusion_matrix1)",
      "execution_count": 93,
      "outputs": [
        {
          "name": "stdout",
          "output_type": "stream",
          "text": "[[ 72   1]\n [  0 102]]\n"
        }
      ]
    },
    {
      "metadata": {
        "trusted": false
      },
      "id": "c042ad19",
      "cell_type": "code",
      "source": "print(classification_report(y_train,train_pred))",
      "execution_count": 94,
      "outputs": [
        {
          "name": "stdout",
          "output_type": "stream",
          "text": "              precision    recall  f1-score   support\n\n           0       1.00      0.99      0.99        73\n           1       0.99      1.00      1.00       102\n\n    accuracy                           0.99       175\n   macro avg       1.00      0.99      0.99       175\nweighted avg       0.99      0.99      0.99       175\n\n"
        }
      ]
    },
    {
      "metadata": {
        "trusted": false
      },
      "id": "871258ec",
      "cell_type": "code",
      "source": "test_pred=model6.predict(x_test)",
      "execution_count": 95,
      "outputs": []
    },
    {
      "metadata": {
        "trusted": false
      },
      "id": "55bb1389",
      "cell_type": "code",
      "source": "confusion_matrix2 = confusion_matrix(y_test,test_pred)\nprint (confusion_matrix2)",
      "execution_count": 96,
      "outputs": [
        {
          "name": "stdout",
          "output_type": "stream",
          "text": "[[31  3]\n [ 0 41]]\n"
        }
      ]
    },
    {
      "metadata": {
        "trusted": false
      },
      "id": "2d71710a",
      "cell_type": "code",
      "source": "print(classification_report(y_test,test_pred))",
      "execution_count": 97,
      "outputs": [
        {
          "name": "stdout",
          "output_type": "stream",
          "text": "              precision    recall  f1-score   support\n\n           0       1.00      0.91      0.95        34\n           1       0.93      1.00      0.96        41\n\n    accuracy                           0.96        75\n   macro avg       0.97      0.96      0.96        75\nweighted avg       0.96      0.96      0.96        75\n\n"
        }
      ]
    },
    {
      "metadata": {
        "trusted": false
      },
      "id": "41070831",
      "cell_type": "code",
      "source": "Table={'Model_Name':['Logistic_Regression','Random_Forest','Voting_Classifier','KNN','SVM','XGBOOST Classifier'],'Train_Accuracy %':[99,100,100,100,100,99],'Test_Accuracy %':[100,100,100,100,100,96]}",
      "execution_count": 98,
      "outputs": []
    },
    {
      "metadata": {
        "trusted": false
      },
      "id": "182d9a37",
      "cell_type": "code",
      "source": "Table=pd.DataFrame(Table)",
      "execution_count": 99,
      "outputs": []
    },
    {
      "metadata": {
        "trusted": false
      },
      "id": "49c0b090",
      "cell_type": "code",
      "source": "Table",
      "execution_count": 100,
      "outputs": [
        {
          "data": {
            "text/html": "<div>\n<style scoped>\n    .dataframe tbody tr th:only-of-type {\n        vertical-align: middle;\n    }\n\n    .dataframe tbody tr th {\n        vertical-align: top;\n    }\n\n    .dataframe thead th {\n        text-align: right;\n    }\n</style>\n<table border=\"1\" class=\"dataframe\">\n  <thead>\n    <tr style=\"text-align: right;\">\n      <th></th>\n      <th>Model_Name</th>\n      <th>Train_Accuracy %</th>\n      <th>Test_Accuracy %</th>\n    </tr>\n  </thead>\n  <tbody>\n    <tr>\n      <th>0</th>\n      <td>Logistic_Regression</td>\n      <td>99</td>\n      <td>100</td>\n    </tr>\n    <tr>\n      <th>1</th>\n      <td>Random_Forest</td>\n      <td>100</td>\n      <td>100</td>\n    </tr>\n    <tr>\n      <th>2</th>\n      <td>Voting_Classifier</td>\n      <td>100</td>\n      <td>100</td>\n    </tr>\n    <tr>\n      <th>3</th>\n      <td>KNN</td>\n      <td>100</td>\n      <td>100</td>\n    </tr>\n    <tr>\n      <th>4</th>\n      <td>SVM</td>\n      <td>100</td>\n      <td>100</td>\n    </tr>\n    <tr>\n      <th>5</th>\n      <td>XGBOOST Classifier</td>\n      <td>99</td>\n      <td>96</td>\n    </tr>\n  </tbody>\n</table>\n</div>",
            "text/plain": "            Model_Name  Train_Accuracy %  Test_Accuracy %\n0  Logistic_Regression                99              100\n1        Random_Forest               100              100\n2    Voting_Classifier               100              100\n3                  KNN               100              100\n4                  SVM               100              100\n5   XGBOOST Classifier                99               96"
          },
          "execution_count": 100,
          "metadata": {},
          "output_type": "execute_result"
        }
      ]
    },
    {
      "metadata": {
        "trusted": false
      },
      "id": "f5083e79",
      "cell_type": "code",
      "source": "",
      "execution_count": null,
      "outputs": []
    }
  ],
  "metadata": {
    "kernelspec": {
      "name": "python3",
      "display_name": "Python 3 (ipykernel)",
      "language": "python"
    },
    "language_info": {
      "name": "python",
      "version": "3.9.12",
      "mimetype": "text/x-python",
      "codemirror_mode": {
        "name": "ipython",
        "version": 3
      },
      "pygments_lexer": "ipython3",
      "nbconvert_exporter": "python",
      "file_extension": ".py"
    },
    "gist": {
      "id": "",
      "data": {
        "description": "Excelr_Project/Project-1 bankruptcy-prevention.ipynb",
        "public": true
      }
    }
  },
  "nbformat": 4,
  "nbformat_minor": 5
}